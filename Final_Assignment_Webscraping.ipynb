{
  "cells": [
    {
      "cell_type": "markdown",
      "metadata": {
        "id": "view-in-github",
        "colab_type": "text"
      },
      "source": [
        "<a href=\"https://colab.research.google.com/github/rmsno/python/blob/main/Final_Assignment_Webscraping.ipynb\" target=\"_parent\"><img src=\"https://colab.research.google.com/assets/colab-badge.svg\" alt=\"Open In Colab\"/></a>"
      ]
    },
    {
      "cell_type": "markdown",
      "metadata": {
        "id": "Js_rgHlv1nMY"
      },
      "source": [
        "<center>\n",
        "    <img src=\"https://cf-courses-data.s3.us.cloud-object-storage.appdomain.cloud/IBMDeveloperSkillsNetwork-PY0220EN-SkillsNetwork/labs/project/Images/SN_logo.png\" width=\"300\" alt=\"cognitiveclass.ai logo\">\n",
        "</center>\n"
      ]
    },
    {
      "cell_type": "markdown",
      "metadata": {
        "id": "D6FJuEXf1nMb"
      },
      "source": [
        "<h1>Extracting Stock Data Using a Web Scraping</h1>\n"
      ]
    },
    {
      "cell_type": "markdown",
      "metadata": {
        "id": "Wuc2fX2q1nMb"
      },
      "source": [
        "Not all stock data is available via API in this assignment; you will use web-scraping to obtain financial data. You will be quizzed on your results.  \n",
        " Using beautiful soup we will extract historical share data from a web-page.\n"
      ]
    },
    {
      "cell_type": "markdown",
      "metadata": {
        "id": "pFrIso6l1nMc"
      },
      "source": [
        "<h2>Table of Contents</h2>\n",
        "<div class=\"alert alert-block alert-info\" style=\"margin-top: 20px\">\n",
        "    <ul>\n",
        "        <li>Downloading the Webpage Using Requests Library</li>\n",
        "        <li>Parsing Webpage HTML Using BeautifulSoup</li>\n",
        "        <li>Extracting Data and Building DataFrame</li>\n",
        "    </ul>\n",
        "<p>\n",
        "    Estimated Time Needed: <strong>30 min</strong></p>\n",
        "</div>\n",
        "\n",
        "<hr>\n"
      ]
    },
    {
      "cell_type": "code",
      "execution_count": 1,
      "metadata": {
        "colab": {
          "base_uri": "https://localhost:8080/"
        },
        "id": "QsUtQZ831nMd",
        "outputId": "ed8e42db-32c7-430d-e8e8-4c55caec9a8d"
      },
      "outputs": [
        {
          "output_type": "stream",
          "name": "stdout",
          "text": [
            "/bin/bash: mamba: command not found\n",
            "/bin/bash: mamba: command not found\n",
            "Looking in indexes: https://pypi.org/simple, https://us-python.pkg.dev/colab-wheels/public/simple/\n",
            "Collecting lxml==4.6.4\n",
            "  Downloading lxml-4.6.4-cp38-cp38-manylinux_2_17_x86_64.manylinux2014_x86_64.manylinux_2_24_x86_64.whl (6.9 MB)\n",
            "\u001b[2K     \u001b[90m━━━━━━━━━━━━━━━━━━━━━━━━━━━━━━━━━━━━━━━━\u001b[0m \u001b[32m6.9/6.9 MB\u001b[0m \u001b[31m34.7 MB/s\u001b[0m eta \u001b[36m0:00:00\u001b[0m\n",
            "\u001b[?25hInstalling collected packages: lxml\n",
            "  Attempting uninstall: lxml\n",
            "    Found existing installation: lxml 4.9.2\n",
            "    Uninstalling lxml-4.9.2:\n",
            "      Successfully uninstalled lxml-4.9.2\n",
            "Successfully installed lxml-4.6.4\n"
          ]
        }
      ],
      "source": [
        "#!pip install pandas==1.3.3\n",
        "#!pip install requests==2.26.0\n",
        "!mamba install bs4==4.10.0 -y\n",
        "!mamba install html5lib==1.1 -y\n",
        "!pip install lxml==4.6.4\n",
        "#!pip install plotly==5.3.1"
      ]
    },
    {
      "cell_type": "code",
      "execution_count": 2,
      "metadata": {
        "id": "jtlj-g1u1nMd"
      },
      "outputs": [],
      "source": [
        "import pandas as pd\n",
        "import requests\n",
        "from bs4 import BeautifulSoup"
      ]
    },
    {
      "cell_type": "markdown",
      "metadata": {
        "id": "t8u_2SUM1nMd"
      },
      "source": [
        "## Using Webscraping to Extract Stock Data Example\n"
      ]
    },
    {
      "cell_type": "markdown",
      "metadata": {
        "id": "HZSgML121nMd"
      },
      "source": [
        "First we must use the `request` library to downlaod the webpage, and extract the text. We will extract Netflix stock data [https://cf-courses-data.s3.us.cloud-object-storage.appdomain.cloud/IBMDeveloperSkillsNetwork-PY0220EN-SkillsNetwork/labs/project/netflix_data_webpage.html](https://cf-courses-data.s3.us.cloud-object-storage.appdomain.cloud/IBMDeveloperSkillsNetwork-PY0220EN-SkillsNetwork/labs/project/netflix_data_webpage.html).\n"
      ]
    },
    {
      "cell_type": "code",
      "execution_count": 3,
      "metadata": {
        "id": "xnHRNHQK1nMe"
      },
      "outputs": [],
      "source": [
        "url = \"https://cf-courses-data.s3.us.cloud-object-storage.appdomain.cloud/IBMDeveloperSkillsNetwork-PY0220EN-SkillsNetwork/labs/project/netflix_data_webpage.html\"\n",
        "\n",
        "data  = requests.get(url).text"
      ]
    },
    {
      "cell_type": "markdown",
      "metadata": {
        "id": "KlboN2h_1nMe"
      },
      "source": [
        "Next we must parse the text into html using `beautiful_soup`\n"
      ]
    },
    {
      "cell_type": "code",
      "execution_count": 4,
      "metadata": {
        "id": "xeM-3PPj1nMe"
      },
      "outputs": [],
      "source": [
        "soup = BeautifulSoup(data, 'html5lib')"
      ]
    },
    {
      "cell_type": "markdown",
      "metadata": {
        "id": "fcbucOFI1nMf"
      },
      "source": [
        "Now we can turn the html table into a pandas dataframe\n"
      ]
    },
    {
      "cell_type": "code",
      "execution_count": 5,
      "metadata": {
        "id": "1bo2-3Cr1nMf"
      },
      "outputs": [],
      "source": [
        "netflix_data = pd.DataFrame(columns=[\"Date\", \"Open\", \"High\", \"Low\", \"Close\", \"Volume\"])\n",
        "\n",
        "# First we isolate the body of the table which contains all the information\n",
        "# Then we loop through each row and find all the column values for each row\n",
        "for row in soup.find(\"tbody\").find_all('tr'):\n",
        "    col = row.find_all(\"td\")\n",
        "    date = col[0].text\n",
        "    Open = col[1].text\n",
        "    high = col[2].text\n",
        "    low = col[3].text\n",
        "    close = col[4].text\n",
        "    adj_close = col[5].text\n",
        "    volume = col[6].text\n",
        "    \n",
        "    # Finally we append the data of each row to the table\n",
        "    netflix_data = netflix_data.append({\"Date\":date, \"Open\":Open, \"High\":high, \"Low\":low, \"Close\":close, \"Adj Close\":adj_close, \"Volume\":volume}, ignore_index=True)    "
      ]
    },
    {
      "cell_type": "markdown",
      "metadata": {
        "id": "4ys539SB1nMf"
      },
      "source": [
        "We can now print out the dataframe\n"
      ]
    },
    {
      "cell_type": "code",
      "execution_count": 6,
      "metadata": {
        "colab": {
          "base_uri": "https://localhost:8080/",
          "height": 206
        },
        "id": "nX67HINM1nMf",
        "outputId": "f0f42e31-00e0-44f9-cda8-96025a00a1db"
      },
      "outputs": [
        {
          "output_type": "execute_result",
          "data": {
            "text/plain": [
              "           Date    Open    High     Low   Close       Volume Adj Close\n",
              "0  Jun 01, 2021  504.01  536.13  482.14  528.21   78,560,600    528.21\n",
              "1  May 01, 2021  512.65  518.95  478.54  502.81   66,927,600    502.81\n",
              "2  Apr 01, 2021  529.93  563.56  499.00  513.47  111,573,300    513.47\n",
              "3  Mar 01, 2021  545.57  556.99  492.85  521.66   90,183,900    521.66\n",
              "4  Feb 01, 2021  536.79  566.65  518.28  538.85   61,902,300    538.85"
            ],
            "text/html": [
              "\n",
              "  <div id=\"df-7d895857-f960-40b7-82c2-6b0ea3f104b8\">\n",
              "    <div class=\"colab-df-container\">\n",
              "      <div>\n",
              "<style scoped>\n",
              "    .dataframe tbody tr th:only-of-type {\n",
              "        vertical-align: middle;\n",
              "    }\n",
              "\n",
              "    .dataframe tbody tr th {\n",
              "        vertical-align: top;\n",
              "    }\n",
              "\n",
              "    .dataframe thead th {\n",
              "        text-align: right;\n",
              "    }\n",
              "</style>\n",
              "<table border=\"1\" class=\"dataframe\">\n",
              "  <thead>\n",
              "    <tr style=\"text-align: right;\">\n",
              "      <th></th>\n",
              "      <th>Date</th>\n",
              "      <th>Open</th>\n",
              "      <th>High</th>\n",
              "      <th>Low</th>\n",
              "      <th>Close</th>\n",
              "      <th>Volume</th>\n",
              "      <th>Adj Close</th>\n",
              "    </tr>\n",
              "  </thead>\n",
              "  <tbody>\n",
              "    <tr>\n",
              "      <th>0</th>\n",
              "      <td>Jun 01, 2021</td>\n",
              "      <td>504.01</td>\n",
              "      <td>536.13</td>\n",
              "      <td>482.14</td>\n",
              "      <td>528.21</td>\n",
              "      <td>78,560,600</td>\n",
              "      <td>528.21</td>\n",
              "    </tr>\n",
              "    <tr>\n",
              "      <th>1</th>\n",
              "      <td>May 01, 2021</td>\n",
              "      <td>512.65</td>\n",
              "      <td>518.95</td>\n",
              "      <td>478.54</td>\n",
              "      <td>502.81</td>\n",
              "      <td>66,927,600</td>\n",
              "      <td>502.81</td>\n",
              "    </tr>\n",
              "    <tr>\n",
              "      <th>2</th>\n",
              "      <td>Apr 01, 2021</td>\n",
              "      <td>529.93</td>\n",
              "      <td>563.56</td>\n",
              "      <td>499.00</td>\n",
              "      <td>513.47</td>\n",
              "      <td>111,573,300</td>\n",
              "      <td>513.47</td>\n",
              "    </tr>\n",
              "    <tr>\n",
              "      <th>3</th>\n",
              "      <td>Mar 01, 2021</td>\n",
              "      <td>545.57</td>\n",
              "      <td>556.99</td>\n",
              "      <td>492.85</td>\n",
              "      <td>521.66</td>\n",
              "      <td>90,183,900</td>\n",
              "      <td>521.66</td>\n",
              "    </tr>\n",
              "    <tr>\n",
              "      <th>4</th>\n",
              "      <td>Feb 01, 2021</td>\n",
              "      <td>536.79</td>\n",
              "      <td>566.65</td>\n",
              "      <td>518.28</td>\n",
              "      <td>538.85</td>\n",
              "      <td>61,902,300</td>\n",
              "      <td>538.85</td>\n",
              "    </tr>\n",
              "  </tbody>\n",
              "</table>\n",
              "</div>\n",
              "      <button class=\"colab-df-convert\" onclick=\"convertToInteractive('df-7d895857-f960-40b7-82c2-6b0ea3f104b8')\"\n",
              "              title=\"Convert this dataframe to an interactive table.\"\n",
              "              style=\"display:none;\">\n",
              "        \n",
              "  <svg xmlns=\"http://www.w3.org/2000/svg\" height=\"24px\"viewBox=\"0 0 24 24\"\n",
              "       width=\"24px\">\n",
              "    <path d=\"M0 0h24v24H0V0z\" fill=\"none\"/>\n",
              "    <path d=\"M18.56 5.44l.94 2.06.94-2.06 2.06-.94-2.06-.94-.94-2.06-.94 2.06-2.06.94zm-11 1L8.5 8.5l.94-2.06 2.06-.94-2.06-.94L8.5 2.5l-.94 2.06-2.06.94zm10 10l.94 2.06.94-2.06 2.06-.94-2.06-.94-.94-2.06-.94 2.06-2.06.94z\"/><path d=\"M17.41 7.96l-1.37-1.37c-.4-.4-.92-.59-1.43-.59-.52 0-1.04.2-1.43.59L10.3 9.45l-7.72 7.72c-.78.78-.78 2.05 0 2.83L4 21.41c.39.39.9.59 1.41.59.51 0 1.02-.2 1.41-.59l7.78-7.78 2.81-2.81c.8-.78.8-2.07 0-2.86zM5.41 20L4 18.59l7.72-7.72 1.47 1.35L5.41 20z\"/>\n",
              "  </svg>\n",
              "      </button>\n",
              "      \n",
              "  <style>\n",
              "    .colab-df-container {\n",
              "      display:flex;\n",
              "      flex-wrap:wrap;\n",
              "      gap: 12px;\n",
              "    }\n",
              "\n",
              "    .colab-df-convert {\n",
              "      background-color: #E8F0FE;\n",
              "      border: none;\n",
              "      border-radius: 50%;\n",
              "      cursor: pointer;\n",
              "      display: none;\n",
              "      fill: #1967D2;\n",
              "      height: 32px;\n",
              "      padding: 0 0 0 0;\n",
              "      width: 32px;\n",
              "    }\n",
              "\n",
              "    .colab-df-convert:hover {\n",
              "      background-color: #E2EBFA;\n",
              "      box-shadow: 0px 1px 2px rgba(60, 64, 67, 0.3), 0px 1px 3px 1px rgba(60, 64, 67, 0.15);\n",
              "      fill: #174EA6;\n",
              "    }\n",
              "\n",
              "    [theme=dark] .colab-df-convert {\n",
              "      background-color: #3B4455;\n",
              "      fill: #D2E3FC;\n",
              "    }\n",
              "\n",
              "    [theme=dark] .colab-df-convert:hover {\n",
              "      background-color: #434B5C;\n",
              "      box-shadow: 0px 1px 3px 1px rgba(0, 0, 0, 0.15);\n",
              "      filter: drop-shadow(0px 1px 2px rgba(0, 0, 0, 0.3));\n",
              "      fill: #FFFFFF;\n",
              "    }\n",
              "  </style>\n",
              "\n",
              "      <script>\n",
              "        const buttonEl =\n",
              "          document.querySelector('#df-7d895857-f960-40b7-82c2-6b0ea3f104b8 button.colab-df-convert');\n",
              "        buttonEl.style.display =\n",
              "          google.colab.kernel.accessAllowed ? 'block' : 'none';\n",
              "\n",
              "        async function convertToInteractive(key) {\n",
              "          const element = document.querySelector('#df-7d895857-f960-40b7-82c2-6b0ea3f104b8');\n",
              "          const dataTable =\n",
              "            await google.colab.kernel.invokeFunction('convertToInteractive',\n",
              "                                                     [key], {});\n",
              "          if (!dataTable) return;\n",
              "\n",
              "          const docLinkHtml = 'Like what you see? Visit the ' +\n",
              "            '<a target=\"_blank\" href=https://colab.research.google.com/notebooks/data_table.ipynb>data table notebook</a>'\n",
              "            + ' to learn more about interactive tables.';\n",
              "          element.innerHTML = '';\n",
              "          dataTable['output_type'] = 'display_data';\n",
              "          await google.colab.output.renderOutput(dataTable, element);\n",
              "          const docLink = document.createElement('div');\n",
              "          docLink.innerHTML = docLinkHtml;\n",
              "          element.appendChild(docLink);\n",
              "        }\n",
              "      </script>\n",
              "    </div>\n",
              "  </div>\n",
              "  "
            ]
          },
          "metadata": {},
          "execution_count": 6
        }
      ],
      "source": [
        "netflix_data.head()"
      ]
    },
    {
      "cell_type": "markdown",
      "metadata": {
        "id": "akIUz-Zv1nMg"
      },
      "source": [
        "We can also use the pandas `read_html` function using the url\n"
      ]
    },
    {
      "cell_type": "code",
      "execution_count": 7,
      "metadata": {
        "id": "EJsFzQ2e1nMg"
      },
      "outputs": [],
      "source": [
        "read_html_pandas_data = pd.read_html(url)"
      ]
    },
    {
      "cell_type": "markdown",
      "metadata": {
        "id": "-O0rJ8tl1nMg"
      },
      "source": [
        "Or we can convert the BeautifulSoup object to a string\n"
      ]
    },
    {
      "cell_type": "code",
      "execution_count": 8,
      "metadata": {
        "id": "6TJDP1Rc1nMg"
      },
      "outputs": [],
      "source": [
        "read_html_pandas_data = pd.read_html(str(soup))"
      ]
    },
    {
      "cell_type": "markdown",
      "metadata": {
        "id": "Q_1ZywK21nMg"
      },
      "source": [
        "Beacause there is only one table on the page, we just take the first table in the list returned\n"
      ]
    },
    {
      "cell_type": "code",
      "execution_count": 9,
      "metadata": {
        "colab": {
          "base_uri": "https://localhost:8080/",
          "height": 206
        },
        "id": "3cKRlc7T1nMh",
        "outputId": "201c5d43-77c3-4366-fd5d-5ba4e308b9f7"
      },
      "outputs": [
        {
          "output_type": "execute_result",
          "data": {
            "text/plain": [
              "           Date    Open    High     Low  Close* Adj Close**     Volume\n",
              "0  Jun 01, 2021  504.01  536.13  482.14  528.21      528.21   78560600\n",
              "1  May 01, 2021  512.65  518.95  478.54  502.81      502.81   66927600\n",
              "2  Apr 01, 2021  529.93  563.56  499.00  513.47      513.47  111573300\n",
              "3  Mar 01, 2021  545.57  556.99  492.85  521.66      521.66   90183900\n",
              "4  Feb 01, 2021  536.79  566.65  518.28  538.85      538.85   61902300"
            ],
            "text/html": [
              "\n",
              "  <div id=\"df-544ffe9f-f74e-4486-b0fc-09564b80b09c\">\n",
              "    <div class=\"colab-df-container\">\n",
              "      <div>\n",
              "<style scoped>\n",
              "    .dataframe tbody tr th:only-of-type {\n",
              "        vertical-align: middle;\n",
              "    }\n",
              "\n",
              "    .dataframe tbody tr th {\n",
              "        vertical-align: top;\n",
              "    }\n",
              "\n",
              "    .dataframe thead th {\n",
              "        text-align: right;\n",
              "    }\n",
              "</style>\n",
              "<table border=\"1\" class=\"dataframe\">\n",
              "  <thead>\n",
              "    <tr style=\"text-align: right;\">\n",
              "      <th></th>\n",
              "      <th>Date</th>\n",
              "      <th>Open</th>\n",
              "      <th>High</th>\n",
              "      <th>Low</th>\n",
              "      <th>Close*</th>\n",
              "      <th>Adj Close**</th>\n",
              "      <th>Volume</th>\n",
              "    </tr>\n",
              "  </thead>\n",
              "  <tbody>\n",
              "    <tr>\n",
              "      <th>0</th>\n",
              "      <td>Jun 01, 2021</td>\n",
              "      <td>504.01</td>\n",
              "      <td>536.13</td>\n",
              "      <td>482.14</td>\n",
              "      <td>528.21</td>\n",
              "      <td>528.21</td>\n",
              "      <td>78560600</td>\n",
              "    </tr>\n",
              "    <tr>\n",
              "      <th>1</th>\n",
              "      <td>May 01, 2021</td>\n",
              "      <td>512.65</td>\n",
              "      <td>518.95</td>\n",
              "      <td>478.54</td>\n",
              "      <td>502.81</td>\n",
              "      <td>502.81</td>\n",
              "      <td>66927600</td>\n",
              "    </tr>\n",
              "    <tr>\n",
              "      <th>2</th>\n",
              "      <td>Apr 01, 2021</td>\n",
              "      <td>529.93</td>\n",
              "      <td>563.56</td>\n",
              "      <td>499.00</td>\n",
              "      <td>513.47</td>\n",
              "      <td>513.47</td>\n",
              "      <td>111573300</td>\n",
              "    </tr>\n",
              "    <tr>\n",
              "      <th>3</th>\n",
              "      <td>Mar 01, 2021</td>\n",
              "      <td>545.57</td>\n",
              "      <td>556.99</td>\n",
              "      <td>492.85</td>\n",
              "      <td>521.66</td>\n",
              "      <td>521.66</td>\n",
              "      <td>90183900</td>\n",
              "    </tr>\n",
              "    <tr>\n",
              "      <th>4</th>\n",
              "      <td>Feb 01, 2021</td>\n",
              "      <td>536.79</td>\n",
              "      <td>566.65</td>\n",
              "      <td>518.28</td>\n",
              "      <td>538.85</td>\n",
              "      <td>538.85</td>\n",
              "      <td>61902300</td>\n",
              "    </tr>\n",
              "  </tbody>\n",
              "</table>\n",
              "</div>\n",
              "      <button class=\"colab-df-convert\" onclick=\"convertToInteractive('df-544ffe9f-f74e-4486-b0fc-09564b80b09c')\"\n",
              "              title=\"Convert this dataframe to an interactive table.\"\n",
              "              style=\"display:none;\">\n",
              "        \n",
              "  <svg xmlns=\"http://www.w3.org/2000/svg\" height=\"24px\"viewBox=\"0 0 24 24\"\n",
              "       width=\"24px\">\n",
              "    <path d=\"M0 0h24v24H0V0z\" fill=\"none\"/>\n",
              "    <path d=\"M18.56 5.44l.94 2.06.94-2.06 2.06-.94-2.06-.94-.94-2.06-.94 2.06-2.06.94zm-11 1L8.5 8.5l.94-2.06 2.06-.94-2.06-.94L8.5 2.5l-.94 2.06-2.06.94zm10 10l.94 2.06.94-2.06 2.06-.94-2.06-.94-.94-2.06-.94 2.06-2.06.94z\"/><path d=\"M17.41 7.96l-1.37-1.37c-.4-.4-.92-.59-1.43-.59-.52 0-1.04.2-1.43.59L10.3 9.45l-7.72 7.72c-.78.78-.78 2.05 0 2.83L4 21.41c.39.39.9.59 1.41.59.51 0 1.02-.2 1.41-.59l7.78-7.78 2.81-2.81c.8-.78.8-2.07 0-2.86zM5.41 20L4 18.59l7.72-7.72 1.47 1.35L5.41 20z\"/>\n",
              "  </svg>\n",
              "      </button>\n",
              "      \n",
              "  <style>\n",
              "    .colab-df-container {\n",
              "      display:flex;\n",
              "      flex-wrap:wrap;\n",
              "      gap: 12px;\n",
              "    }\n",
              "\n",
              "    .colab-df-convert {\n",
              "      background-color: #E8F0FE;\n",
              "      border: none;\n",
              "      border-radius: 50%;\n",
              "      cursor: pointer;\n",
              "      display: none;\n",
              "      fill: #1967D2;\n",
              "      height: 32px;\n",
              "      padding: 0 0 0 0;\n",
              "      width: 32px;\n",
              "    }\n",
              "\n",
              "    .colab-df-convert:hover {\n",
              "      background-color: #E2EBFA;\n",
              "      box-shadow: 0px 1px 2px rgba(60, 64, 67, 0.3), 0px 1px 3px 1px rgba(60, 64, 67, 0.15);\n",
              "      fill: #174EA6;\n",
              "    }\n",
              "\n",
              "    [theme=dark] .colab-df-convert {\n",
              "      background-color: #3B4455;\n",
              "      fill: #D2E3FC;\n",
              "    }\n",
              "\n",
              "    [theme=dark] .colab-df-convert:hover {\n",
              "      background-color: #434B5C;\n",
              "      box-shadow: 0px 1px 3px 1px rgba(0, 0, 0, 0.15);\n",
              "      filter: drop-shadow(0px 1px 2px rgba(0, 0, 0, 0.3));\n",
              "      fill: #FFFFFF;\n",
              "    }\n",
              "  </style>\n",
              "\n",
              "      <script>\n",
              "        const buttonEl =\n",
              "          document.querySelector('#df-544ffe9f-f74e-4486-b0fc-09564b80b09c button.colab-df-convert');\n",
              "        buttonEl.style.display =\n",
              "          google.colab.kernel.accessAllowed ? 'block' : 'none';\n",
              "\n",
              "        async function convertToInteractive(key) {\n",
              "          const element = document.querySelector('#df-544ffe9f-f74e-4486-b0fc-09564b80b09c');\n",
              "          const dataTable =\n",
              "            await google.colab.kernel.invokeFunction('convertToInteractive',\n",
              "                                                     [key], {});\n",
              "          if (!dataTable) return;\n",
              "\n",
              "          const docLinkHtml = 'Like what you see? Visit the ' +\n",
              "            '<a target=\"_blank\" href=https://colab.research.google.com/notebooks/data_table.ipynb>data table notebook</a>'\n",
              "            + ' to learn more about interactive tables.';\n",
              "          element.innerHTML = '';\n",
              "          dataTable['output_type'] = 'display_data';\n",
              "          await google.colab.output.renderOutput(dataTable, element);\n",
              "          const docLink = document.createElement('div');\n",
              "          docLink.innerHTML = docLinkHtml;\n",
              "          element.appendChild(docLink);\n",
              "        }\n",
              "      </script>\n",
              "    </div>\n",
              "  </div>\n",
              "  "
            ]
          },
          "metadata": {},
          "execution_count": 9
        }
      ],
      "source": [
        "netflix_dataframe = read_html_pandas_data[0]\n",
        "\n",
        "netflix_dataframe.head()"
      ]
    },
    {
      "cell_type": "markdown",
      "metadata": {
        "id": "o832jn-K1nMh"
      },
      "source": [
        "## Using Webscraping to Extract Stock Data Exercise\n"
      ]
    },
    {
      "cell_type": "markdown",
      "metadata": {
        "id": "Z8dmVx7w1nMh"
      },
      "source": [
        "Use the `requests` library to download the webpage [https://cf-courses-data.s3.us.cloud-object-storage.appdomain.cloud/IBMDeveloperSkillsNetwork-PY0220EN-SkillsNetwork/labs/project/amazon_data_webpage.html](https://cf-courses-data.s3.us.cloud-object-storage.appdomain.cloud/IBMDeveloperSkillsNetwork-PY0220EN-SkillsNetwork/labs/project/amazon_data_webpage.html). Save the text of the response as a variable named `html_data`.\n"
      ]
    },
    {
      "cell_type": "code",
      "execution_count": 33,
      "metadata": {
        "id": "pQgKOsFN1nMh"
      },
      "outputs": [],
      "source": [
        "url = \"https://cf-courses-data.s3.us.cloud-object-storage.appdomain.cloud/IBMDeveloperSkillsNetwork-PY0220EN-SkillsNetwork/labs/project/amazon_data_webpage.html\"\n",
        "\n",
        "html_data  = requests.get(url).text\n"
      ]
    },
    {
      "cell_type": "markdown",
      "metadata": {
        "id": "dw4h1ZOk1nMh"
      },
      "source": [
        "Parse the html data using `beautiful_soup`.\n"
      ]
    },
    {
      "cell_type": "code",
      "execution_count": 34,
      "metadata": {
        "id": "VMdirHpD1nMh"
      },
      "outputs": [],
      "source": [
        "soup = BeautifulSoup(html_data, 'html5lib')"
      ]
    },
    {
      "cell_type": "markdown",
      "metadata": {
        "id": "69BJkMML1nMh"
      },
      "source": [
        "<b>Question 1</b> What is the content of the title attribute:\n"
      ]
    },
    {
      "cell_type": "code",
      "execution_count": 35,
      "metadata": {
        "colab": {
          "base_uri": "https://localhost:8080/"
        },
        "id": "H4eBbqiQ1nMh",
        "outputId": "0919d17a-75f0-4481-be9a-ebed3306c5c2"
      },
      "outputs": [
        {
          "output_type": "execute_result",
          "data": {
            "text/plain": [
              "[<title>Amazon.com, Inc. (AMZN) Stock Historical Prices &amp; Data - Yahoo Finance</title>]"
            ]
          },
          "metadata": {},
          "execution_count": 35
        }
      ],
      "source": [
        "soup.find_all('title')"
      ]
    },
    {
      "cell_type": "markdown",
      "metadata": {
        "id": "S17diM0U1nMh"
      },
      "source": [
        "Using beautiful soup extract the table with historical share prices and store it into a dataframe named `amazon_data`. The dataframe should have columns Date, Open, High, Low, Close, Adj Close, and Volume. Fill in each variable with the correct data from the list `col`. \n"
      ]
    },
    {
      "cell_type": "code",
      "execution_count": 36,
      "metadata": {
        "id": "NObkISb91nMh"
      },
      "outputs": [],
      "source": [
        "amazon_data = pd.DataFrame(columns=[\"Date\", \"Open\", \"High\", \"Low\", \"Close\", \"Volume\"])\n",
        "\n",
        "for row in soup.find(\"tbody\").find_all('tr'):\n",
        "    col = row.find_all(\"td\")\n",
        "    date = col[0].text\n",
        "    Open = col[1].text\n",
        "    high = col[2].text\n",
        "    low = col[3].text\n",
        "    close = col[4].text\n",
        "    adj_close = col[5].text\n",
        "    volume = col[6].text\n",
        "    \n",
        "    # Finally we append the data of each row to the table\n",
        "    amazon_data = amazon_data.append({\"Date\":date, \"Open\":Open, \"High\":high, \"Low\":low, \"Close\":close, \"Adj Close\":adj_close, \"Volume\":volume}, ignore_index=True)  "
      ]
    },
    {
      "cell_type": "markdown",
      "metadata": {
        "id": "w05fN-Cd1nMh"
      },
      "source": [
        "Print out the first five rows of the `amazon_data` dataframe you created.\n"
      ]
    },
    {
      "cell_type": "code",
      "execution_count": 37,
      "metadata": {
        "colab": {
          "base_uri": "https://localhost:8080/",
          "height": 206
        },
        "id": "plw9H3SK1nMi",
        "outputId": "0fd616ee-95d8-43bf-8474-28be8662713b"
      },
      "outputs": [
        {
          "output_type": "execute_result",
          "data": {
            "text/plain": [
              "           Date      Open      High       Low     Close       Volume Adj Close\n",
              "0  Jan 01, 2021  3,270.00  3,363.89  3,086.00  3,206.20   71,528,900  3,206.20\n",
              "1  Dec 01, 2020  3,188.50  3,350.65  3,072.82  3,256.93   77,556,200  3,256.93\n",
              "2  Nov 01, 2020  3,061.74  3,366.80  2,950.12  3,168.04   90,810,500  3,168.04\n",
              "3  Oct 01, 2020  3,208.00  3,496.24  3,019.00  3,036.15  116,226,100  3,036.15\n",
              "4  Sep 01, 2020  3,489.58  3,552.25  2,871.00  3,148.73  115,899,300  3,148.73"
            ],
            "text/html": [
              "\n",
              "  <div id=\"df-e9732051-cb90-48ef-a286-d77e29830531\">\n",
              "    <div class=\"colab-df-container\">\n",
              "      <div>\n",
              "<style scoped>\n",
              "    .dataframe tbody tr th:only-of-type {\n",
              "        vertical-align: middle;\n",
              "    }\n",
              "\n",
              "    .dataframe tbody tr th {\n",
              "        vertical-align: top;\n",
              "    }\n",
              "\n",
              "    .dataframe thead th {\n",
              "        text-align: right;\n",
              "    }\n",
              "</style>\n",
              "<table border=\"1\" class=\"dataframe\">\n",
              "  <thead>\n",
              "    <tr style=\"text-align: right;\">\n",
              "      <th></th>\n",
              "      <th>Date</th>\n",
              "      <th>Open</th>\n",
              "      <th>High</th>\n",
              "      <th>Low</th>\n",
              "      <th>Close</th>\n",
              "      <th>Volume</th>\n",
              "      <th>Adj Close</th>\n",
              "    </tr>\n",
              "  </thead>\n",
              "  <tbody>\n",
              "    <tr>\n",
              "      <th>0</th>\n",
              "      <td>Jan 01, 2021</td>\n",
              "      <td>3,270.00</td>\n",
              "      <td>3,363.89</td>\n",
              "      <td>3,086.00</td>\n",
              "      <td>3,206.20</td>\n",
              "      <td>71,528,900</td>\n",
              "      <td>3,206.20</td>\n",
              "    </tr>\n",
              "    <tr>\n",
              "      <th>1</th>\n",
              "      <td>Dec 01, 2020</td>\n",
              "      <td>3,188.50</td>\n",
              "      <td>3,350.65</td>\n",
              "      <td>3,072.82</td>\n",
              "      <td>3,256.93</td>\n",
              "      <td>77,556,200</td>\n",
              "      <td>3,256.93</td>\n",
              "    </tr>\n",
              "    <tr>\n",
              "      <th>2</th>\n",
              "      <td>Nov 01, 2020</td>\n",
              "      <td>3,061.74</td>\n",
              "      <td>3,366.80</td>\n",
              "      <td>2,950.12</td>\n",
              "      <td>3,168.04</td>\n",
              "      <td>90,810,500</td>\n",
              "      <td>3,168.04</td>\n",
              "    </tr>\n",
              "    <tr>\n",
              "      <th>3</th>\n",
              "      <td>Oct 01, 2020</td>\n",
              "      <td>3,208.00</td>\n",
              "      <td>3,496.24</td>\n",
              "      <td>3,019.00</td>\n",
              "      <td>3,036.15</td>\n",
              "      <td>116,226,100</td>\n",
              "      <td>3,036.15</td>\n",
              "    </tr>\n",
              "    <tr>\n",
              "      <th>4</th>\n",
              "      <td>Sep 01, 2020</td>\n",
              "      <td>3,489.58</td>\n",
              "      <td>3,552.25</td>\n",
              "      <td>2,871.00</td>\n",
              "      <td>3,148.73</td>\n",
              "      <td>115,899,300</td>\n",
              "      <td>3,148.73</td>\n",
              "    </tr>\n",
              "  </tbody>\n",
              "</table>\n",
              "</div>\n",
              "      <button class=\"colab-df-convert\" onclick=\"convertToInteractive('df-e9732051-cb90-48ef-a286-d77e29830531')\"\n",
              "              title=\"Convert this dataframe to an interactive table.\"\n",
              "              style=\"display:none;\">\n",
              "        \n",
              "  <svg xmlns=\"http://www.w3.org/2000/svg\" height=\"24px\"viewBox=\"0 0 24 24\"\n",
              "       width=\"24px\">\n",
              "    <path d=\"M0 0h24v24H0V0z\" fill=\"none\"/>\n",
              "    <path d=\"M18.56 5.44l.94 2.06.94-2.06 2.06-.94-2.06-.94-.94-2.06-.94 2.06-2.06.94zm-11 1L8.5 8.5l.94-2.06 2.06-.94-2.06-.94L8.5 2.5l-.94 2.06-2.06.94zm10 10l.94 2.06.94-2.06 2.06-.94-2.06-.94-.94-2.06-.94 2.06-2.06.94z\"/><path d=\"M17.41 7.96l-1.37-1.37c-.4-.4-.92-.59-1.43-.59-.52 0-1.04.2-1.43.59L10.3 9.45l-7.72 7.72c-.78.78-.78 2.05 0 2.83L4 21.41c.39.39.9.59 1.41.59.51 0 1.02-.2 1.41-.59l7.78-7.78 2.81-2.81c.8-.78.8-2.07 0-2.86zM5.41 20L4 18.59l7.72-7.72 1.47 1.35L5.41 20z\"/>\n",
              "  </svg>\n",
              "      </button>\n",
              "      \n",
              "  <style>\n",
              "    .colab-df-container {\n",
              "      display:flex;\n",
              "      flex-wrap:wrap;\n",
              "      gap: 12px;\n",
              "    }\n",
              "\n",
              "    .colab-df-convert {\n",
              "      background-color: #E8F0FE;\n",
              "      border: none;\n",
              "      border-radius: 50%;\n",
              "      cursor: pointer;\n",
              "      display: none;\n",
              "      fill: #1967D2;\n",
              "      height: 32px;\n",
              "      padding: 0 0 0 0;\n",
              "      width: 32px;\n",
              "    }\n",
              "\n",
              "    .colab-df-convert:hover {\n",
              "      background-color: #E2EBFA;\n",
              "      box-shadow: 0px 1px 2px rgba(60, 64, 67, 0.3), 0px 1px 3px 1px rgba(60, 64, 67, 0.15);\n",
              "      fill: #174EA6;\n",
              "    }\n",
              "\n",
              "    [theme=dark] .colab-df-convert {\n",
              "      background-color: #3B4455;\n",
              "      fill: #D2E3FC;\n",
              "    }\n",
              "\n",
              "    [theme=dark] .colab-df-convert:hover {\n",
              "      background-color: #434B5C;\n",
              "      box-shadow: 0px 1px 3px 1px rgba(0, 0, 0, 0.15);\n",
              "      filter: drop-shadow(0px 1px 2px rgba(0, 0, 0, 0.3));\n",
              "      fill: #FFFFFF;\n",
              "    }\n",
              "  </style>\n",
              "\n",
              "      <script>\n",
              "        const buttonEl =\n",
              "          document.querySelector('#df-e9732051-cb90-48ef-a286-d77e29830531 button.colab-df-convert');\n",
              "        buttonEl.style.display =\n",
              "          google.colab.kernel.accessAllowed ? 'block' : 'none';\n",
              "\n",
              "        async function convertToInteractive(key) {\n",
              "          const element = document.querySelector('#df-e9732051-cb90-48ef-a286-d77e29830531');\n",
              "          const dataTable =\n",
              "            await google.colab.kernel.invokeFunction('convertToInteractive',\n",
              "                                                     [key], {});\n",
              "          if (!dataTable) return;\n",
              "\n",
              "          const docLinkHtml = 'Like what you see? Visit the ' +\n",
              "            '<a target=\"_blank\" href=https://colab.research.google.com/notebooks/data_table.ipynb>data table notebook</a>'\n",
              "            + ' to learn more about interactive tables.';\n",
              "          element.innerHTML = '';\n",
              "          dataTable['output_type'] = 'display_data';\n",
              "          await google.colab.output.renderOutput(dataTable, element);\n",
              "          const docLink = document.createElement('div');\n",
              "          docLink.innerHTML = docLinkHtml;\n",
              "          element.appendChild(docLink);\n",
              "        }\n",
              "      </script>\n",
              "    </div>\n",
              "  </div>\n",
              "  "
            ]
          },
          "metadata": {},
          "execution_count": 37
        }
      ],
      "source": [
        "amazon_data.head()"
      ]
    },
    {
      "cell_type": "markdown",
      "metadata": {
        "id": "I2PFWjGi1nMi"
      },
      "source": [
        "<b>Question 2</b> What is the name of the columns of the dataframe \n"
      ]
    },
    {
      "cell_type": "code",
      "execution_count": 39,
      "metadata": {
        "colab": {
          "base_uri": "https://localhost:8080/",
          "height": 206
        },
        "id": "3UieOQoU1nMi",
        "outputId": "a520970d-4d88-4eff-e512-ad180f7d6135"
      },
      "outputs": [
        {
          "output_type": "execute_result",
          "data": {
            "text/plain": [
              "           Date    Open    High     Low  Close* Adj Close**     Volume\n",
              "0  Jun 01, 2021  504.01  536.13  482.14  528.21      528.21   78560600\n",
              "1  May 01, 2021  512.65  518.95  478.54  502.81      502.81   66927600\n",
              "2  Apr 01, 2021  529.93  563.56  499.00  513.47      513.47  111573300\n",
              "3  Mar 01, 2021  545.57  556.99  492.85  521.66      521.66   90183900\n",
              "4  Feb 01, 2021  536.79  566.65  518.28  538.85      538.85   61902300"
            ],
            "text/html": [
              "\n",
              "  <div id=\"df-2d5b1292-3d62-4dbb-8060-2444cf021694\">\n",
              "    <div class=\"colab-df-container\">\n",
              "      <div>\n",
              "<style scoped>\n",
              "    .dataframe tbody tr th:only-of-type {\n",
              "        vertical-align: middle;\n",
              "    }\n",
              "\n",
              "    .dataframe tbody tr th {\n",
              "        vertical-align: top;\n",
              "    }\n",
              "\n",
              "    .dataframe thead th {\n",
              "        text-align: right;\n",
              "    }\n",
              "</style>\n",
              "<table border=\"1\" class=\"dataframe\">\n",
              "  <thead>\n",
              "    <tr style=\"text-align: right;\">\n",
              "      <th></th>\n",
              "      <th>Date</th>\n",
              "      <th>Open</th>\n",
              "      <th>High</th>\n",
              "      <th>Low</th>\n",
              "      <th>Close*</th>\n",
              "      <th>Adj Close**</th>\n",
              "      <th>Volume</th>\n",
              "    </tr>\n",
              "  </thead>\n",
              "  <tbody>\n",
              "    <tr>\n",
              "      <th>0</th>\n",
              "      <td>Jun 01, 2021</td>\n",
              "      <td>504.01</td>\n",
              "      <td>536.13</td>\n",
              "      <td>482.14</td>\n",
              "      <td>528.21</td>\n",
              "      <td>528.21</td>\n",
              "      <td>78560600</td>\n",
              "    </tr>\n",
              "    <tr>\n",
              "      <th>1</th>\n",
              "      <td>May 01, 2021</td>\n",
              "      <td>512.65</td>\n",
              "      <td>518.95</td>\n",
              "      <td>478.54</td>\n",
              "      <td>502.81</td>\n",
              "      <td>502.81</td>\n",
              "      <td>66927600</td>\n",
              "    </tr>\n",
              "    <tr>\n",
              "      <th>2</th>\n",
              "      <td>Apr 01, 2021</td>\n",
              "      <td>529.93</td>\n",
              "      <td>563.56</td>\n",
              "      <td>499.00</td>\n",
              "      <td>513.47</td>\n",
              "      <td>513.47</td>\n",
              "      <td>111573300</td>\n",
              "    </tr>\n",
              "    <tr>\n",
              "      <th>3</th>\n",
              "      <td>Mar 01, 2021</td>\n",
              "      <td>545.57</td>\n",
              "      <td>556.99</td>\n",
              "      <td>492.85</td>\n",
              "      <td>521.66</td>\n",
              "      <td>521.66</td>\n",
              "      <td>90183900</td>\n",
              "    </tr>\n",
              "    <tr>\n",
              "      <th>4</th>\n",
              "      <td>Feb 01, 2021</td>\n",
              "      <td>536.79</td>\n",
              "      <td>566.65</td>\n",
              "      <td>518.28</td>\n",
              "      <td>538.85</td>\n",
              "      <td>538.85</td>\n",
              "      <td>61902300</td>\n",
              "    </tr>\n",
              "  </tbody>\n",
              "</table>\n",
              "</div>\n",
              "      <button class=\"colab-df-convert\" onclick=\"convertToInteractive('df-2d5b1292-3d62-4dbb-8060-2444cf021694')\"\n",
              "              title=\"Convert this dataframe to an interactive table.\"\n",
              "              style=\"display:none;\">\n",
              "        \n",
              "  <svg xmlns=\"http://www.w3.org/2000/svg\" height=\"24px\"viewBox=\"0 0 24 24\"\n",
              "       width=\"24px\">\n",
              "    <path d=\"M0 0h24v24H0V0z\" fill=\"none\"/>\n",
              "    <path d=\"M18.56 5.44l.94 2.06.94-2.06 2.06-.94-2.06-.94-.94-2.06-.94 2.06-2.06.94zm-11 1L8.5 8.5l.94-2.06 2.06-.94-2.06-.94L8.5 2.5l-.94 2.06-2.06.94zm10 10l.94 2.06.94-2.06 2.06-.94-2.06-.94-.94-2.06-.94 2.06-2.06.94z\"/><path d=\"M17.41 7.96l-1.37-1.37c-.4-.4-.92-.59-1.43-.59-.52 0-1.04.2-1.43.59L10.3 9.45l-7.72 7.72c-.78.78-.78 2.05 0 2.83L4 21.41c.39.39.9.59 1.41.59.51 0 1.02-.2 1.41-.59l7.78-7.78 2.81-2.81c.8-.78.8-2.07 0-2.86zM5.41 20L4 18.59l7.72-7.72 1.47 1.35L5.41 20z\"/>\n",
              "  </svg>\n",
              "      </button>\n",
              "      \n",
              "  <style>\n",
              "    .colab-df-container {\n",
              "      display:flex;\n",
              "      flex-wrap:wrap;\n",
              "      gap: 12px;\n",
              "    }\n",
              "\n",
              "    .colab-df-convert {\n",
              "      background-color: #E8F0FE;\n",
              "      border: none;\n",
              "      border-radius: 50%;\n",
              "      cursor: pointer;\n",
              "      display: none;\n",
              "      fill: #1967D2;\n",
              "      height: 32px;\n",
              "      padding: 0 0 0 0;\n",
              "      width: 32px;\n",
              "    }\n",
              "\n",
              "    .colab-df-convert:hover {\n",
              "      background-color: #E2EBFA;\n",
              "      box-shadow: 0px 1px 2px rgba(60, 64, 67, 0.3), 0px 1px 3px 1px rgba(60, 64, 67, 0.15);\n",
              "      fill: #174EA6;\n",
              "    }\n",
              "\n",
              "    [theme=dark] .colab-df-convert {\n",
              "      background-color: #3B4455;\n",
              "      fill: #D2E3FC;\n",
              "    }\n",
              "\n",
              "    [theme=dark] .colab-df-convert:hover {\n",
              "      background-color: #434B5C;\n",
              "      box-shadow: 0px 1px 3px 1px rgba(0, 0, 0, 0.15);\n",
              "      filter: drop-shadow(0px 1px 2px rgba(0, 0, 0, 0.3));\n",
              "      fill: #FFFFFF;\n",
              "    }\n",
              "  </style>\n",
              "\n",
              "      <script>\n",
              "        const buttonEl =\n",
              "          document.querySelector('#df-2d5b1292-3d62-4dbb-8060-2444cf021694 button.colab-df-convert');\n",
              "        buttonEl.style.display =\n",
              "          google.colab.kernel.accessAllowed ? 'block' : 'none';\n",
              "\n",
              "        async function convertToInteractive(key) {\n",
              "          const element = document.querySelector('#df-2d5b1292-3d62-4dbb-8060-2444cf021694');\n",
              "          const dataTable =\n",
              "            await google.colab.kernel.invokeFunction('convertToInteractive',\n",
              "                                                     [key], {});\n",
              "          if (!dataTable) return;\n",
              "\n",
              "          const docLinkHtml = 'Like what you see? Visit the ' +\n",
              "            '<a target=\"_blank\" href=https://colab.research.google.com/notebooks/data_table.ipynb>data table notebook</a>'\n",
              "            + ' to learn more about interactive tables.';\n",
              "          element.innerHTML = '';\n",
              "          dataTable['output_type'] = 'display_data';\n",
              "          await google.colab.output.renderOutput(dataTable, element);\n",
              "          const docLink = document.createElement('div');\n",
              "          docLink.innerHTML = docLinkHtml;\n",
              "          element.appendChild(docLink);\n",
              "        }\n",
              "      </script>\n",
              "    </div>\n",
              "  </div>\n",
              "  "
            ]
          },
          "metadata": {},
          "execution_count": 39
        }
      ],
      "source": [
        "amazon_dataframe.head()"
      ]
    },
    {
      "cell_type": "markdown",
      "metadata": {
        "id": "ThO0aRiK1nMi"
      },
      "source": [
        "<b>Question 3</b> What is the `Open` of the last row of the amazon_data dataframe?\n"
      ]
    },
    {
      "cell_type": "code",
      "execution_count": 41,
      "metadata": {
        "colab": {
          "base_uri": "https://localhost:8080/",
          "height": 423
        },
        "id": "3fM1BSec1nMi",
        "outputId": "f1430d9c-b809-4494-a243-ba21964dfc74"
      },
      "outputs": [
        {
          "output_type": "execute_result",
          "data": {
            "text/plain": [
              "            Date    Open    High     Low  Close* Adj Close**     Volume\n",
              "0   Jun 01, 2021  504.01  536.13  482.14  528.21      528.21   78560600\n",
              "1   May 01, 2021  512.65  518.95  478.54  502.81      502.81   66927600\n",
              "2   Apr 01, 2021  529.93  563.56  499.00  513.47      513.47  111573300\n",
              "3   Mar 01, 2021  545.57  556.99  492.85  521.66      521.66   90183900\n",
              "4   Feb 01, 2021  536.79  566.65  518.28  538.85      538.85   61902300\n",
              "..           ...     ...     ...     ...     ...         ...        ...\n",
              "65  Jan 01, 2016  109.00  122.18   90.11   91.84       91.84  488193200\n",
              "66  Dec 01, 2015  124.47  133.27  113.85  114.38      114.38  319939200\n",
              "67  Nov 01, 2015  109.20  126.60  101.86  123.33      123.33  320321800\n",
              "68  Oct 01, 2015  102.91  115.83   96.26  108.38      108.38  446204400\n",
              "69  Sep 01, 2015  109.35  111.24   93.55  103.26      103.26  497401200\n",
              "\n",
              "[70 rows x 7 columns]"
            ],
            "text/html": [
              "\n",
              "  <div id=\"df-184a8b41-989b-4ba4-8450-a2f46df9e16e\">\n",
              "    <div class=\"colab-df-container\">\n",
              "      <div>\n",
              "<style scoped>\n",
              "    .dataframe tbody tr th:only-of-type {\n",
              "        vertical-align: middle;\n",
              "    }\n",
              "\n",
              "    .dataframe tbody tr th {\n",
              "        vertical-align: top;\n",
              "    }\n",
              "\n",
              "    .dataframe thead th {\n",
              "        text-align: right;\n",
              "    }\n",
              "</style>\n",
              "<table border=\"1\" class=\"dataframe\">\n",
              "  <thead>\n",
              "    <tr style=\"text-align: right;\">\n",
              "      <th></th>\n",
              "      <th>Date</th>\n",
              "      <th>Open</th>\n",
              "      <th>High</th>\n",
              "      <th>Low</th>\n",
              "      <th>Close*</th>\n",
              "      <th>Adj Close**</th>\n",
              "      <th>Volume</th>\n",
              "    </tr>\n",
              "  </thead>\n",
              "  <tbody>\n",
              "    <tr>\n",
              "      <th>0</th>\n",
              "      <td>Jun 01, 2021</td>\n",
              "      <td>504.01</td>\n",
              "      <td>536.13</td>\n",
              "      <td>482.14</td>\n",
              "      <td>528.21</td>\n",
              "      <td>528.21</td>\n",
              "      <td>78560600</td>\n",
              "    </tr>\n",
              "    <tr>\n",
              "      <th>1</th>\n",
              "      <td>May 01, 2021</td>\n",
              "      <td>512.65</td>\n",
              "      <td>518.95</td>\n",
              "      <td>478.54</td>\n",
              "      <td>502.81</td>\n",
              "      <td>502.81</td>\n",
              "      <td>66927600</td>\n",
              "    </tr>\n",
              "    <tr>\n",
              "      <th>2</th>\n",
              "      <td>Apr 01, 2021</td>\n",
              "      <td>529.93</td>\n",
              "      <td>563.56</td>\n",
              "      <td>499.00</td>\n",
              "      <td>513.47</td>\n",
              "      <td>513.47</td>\n",
              "      <td>111573300</td>\n",
              "    </tr>\n",
              "    <tr>\n",
              "      <th>3</th>\n",
              "      <td>Mar 01, 2021</td>\n",
              "      <td>545.57</td>\n",
              "      <td>556.99</td>\n",
              "      <td>492.85</td>\n",
              "      <td>521.66</td>\n",
              "      <td>521.66</td>\n",
              "      <td>90183900</td>\n",
              "    </tr>\n",
              "    <tr>\n",
              "      <th>4</th>\n",
              "      <td>Feb 01, 2021</td>\n",
              "      <td>536.79</td>\n",
              "      <td>566.65</td>\n",
              "      <td>518.28</td>\n",
              "      <td>538.85</td>\n",
              "      <td>538.85</td>\n",
              "      <td>61902300</td>\n",
              "    </tr>\n",
              "    <tr>\n",
              "      <th>...</th>\n",
              "      <td>...</td>\n",
              "      <td>...</td>\n",
              "      <td>...</td>\n",
              "      <td>...</td>\n",
              "      <td>...</td>\n",
              "      <td>...</td>\n",
              "      <td>...</td>\n",
              "    </tr>\n",
              "    <tr>\n",
              "      <th>65</th>\n",
              "      <td>Jan 01, 2016</td>\n",
              "      <td>109.00</td>\n",
              "      <td>122.18</td>\n",
              "      <td>90.11</td>\n",
              "      <td>91.84</td>\n",
              "      <td>91.84</td>\n",
              "      <td>488193200</td>\n",
              "    </tr>\n",
              "    <tr>\n",
              "      <th>66</th>\n",
              "      <td>Dec 01, 2015</td>\n",
              "      <td>124.47</td>\n",
              "      <td>133.27</td>\n",
              "      <td>113.85</td>\n",
              "      <td>114.38</td>\n",
              "      <td>114.38</td>\n",
              "      <td>319939200</td>\n",
              "    </tr>\n",
              "    <tr>\n",
              "      <th>67</th>\n",
              "      <td>Nov 01, 2015</td>\n",
              "      <td>109.20</td>\n",
              "      <td>126.60</td>\n",
              "      <td>101.86</td>\n",
              "      <td>123.33</td>\n",
              "      <td>123.33</td>\n",
              "      <td>320321800</td>\n",
              "    </tr>\n",
              "    <tr>\n",
              "      <th>68</th>\n",
              "      <td>Oct 01, 2015</td>\n",
              "      <td>102.91</td>\n",
              "      <td>115.83</td>\n",
              "      <td>96.26</td>\n",
              "      <td>108.38</td>\n",
              "      <td>108.38</td>\n",
              "      <td>446204400</td>\n",
              "    </tr>\n",
              "    <tr>\n",
              "      <th>69</th>\n",
              "      <td>Sep 01, 2015</td>\n",
              "      <td>109.35</td>\n",
              "      <td>111.24</td>\n",
              "      <td>93.55</td>\n",
              "      <td>103.26</td>\n",
              "      <td>103.26</td>\n",
              "      <td>497401200</td>\n",
              "    </tr>\n",
              "  </tbody>\n",
              "</table>\n",
              "<p>70 rows × 7 columns</p>\n",
              "</div>\n",
              "      <button class=\"colab-df-convert\" onclick=\"convertToInteractive('df-184a8b41-989b-4ba4-8450-a2f46df9e16e')\"\n",
              "              title=\"Convert this dataframe to an interactive table.\"\n",
              "              style=\"display:none;\">\n",
              "        \n",
              "  <svg xmlns=\"http://www.w3.org/2000/svg\" height=\"24px\"viewBox=\"0 0 24 24\"\n",
              "       width=\"24px\">\n",
              "    <path d=\"M0 0h24v24H0V0z\" fill=\"none\"/>\n",
              "    <path d=\"M18.56 5.44l.94 2.06.94-2.06 2.06-.94-2.06-.94-.94-2.06-.94 2.06-2.06.94zm-11 1L8.5 8.5l.94-2.06 2.06-.94-2.06-.94L8.5 2.5l-.94 2.06-2.06.94zm10 10l.94 2.06.94-2.06 2.06-.94-2.06-.94-.94-2.06-.94 2.06-2.06.94z\"/><path d=\"M17.41 7.96l-1.37-1.37c-.4-.4-.92-.59-1.43-.59-.52 0-1.04.2-1.43.59L10.3 9.45l-7.72 7.72c-.78.78-.78 2.05 0 2.83L4 21.41c.39.39.9.59 1.41.59.51 0 1.02-.2 1.41-.59l7.78-7.78 2.81-2.81c.8-.78.8-2.07 0-2.86zM5.41 20L4 18.59l7.72-7.72 1.47 1.35L5.41 20z\"/>\n",
              "  </svg>\n",
              "      </button>\n",
              "      \n",
              "  <style>\n",
              "    .colab-df-container {\n",
              "      display:flex;\n",
              "      flex-wrap:wrap;\n",
              "      gap: 12px;\n",
              "    }\n",
              "\n",
              "    .colab-df-convert {\n",
              "      background-color: #E8F0FE;\n",
              "      border: none;\n",
              "      border-radius: 50%;\n",
              "      cursor: pointer;\n",
              "      display: none;\n",
              "      fill: #1967D2;\n",
              "      height: 32px;\n",
              "      padding: 0 0 0 0;\n",
              "      width: 32px;\n",
              "    }\n",
              "\n",
              "    .colab-df-convert:hover {\n",
              "      background-color: #E2EBFA;\n",
              "      box-shadow: 0px 1px 2px rgba(60, 64, 67, 0.3), 0px 1px 3px 1px rgba(60, 64, 67, 0.15);\n",
              "      fill: #174EA6;\n",
              "    }\n",
              "\n",
              "    [theme=dark] .colab-df-convert {\n",
              "      background-color: #3B4455;\n",
              "      fill: #D2E3FC;\n",
              "    }\n",
              "\n",
              "    [theme=dark] .colab-df-convert:hover {\n",
              "      background-color: #434B5C;\n",
              "      box-shadow: 0px 1px 3px 1px rgba(0, 0, 0, 0.15);\n",
              "      filter: drop-shadow(0px 1px 2px rgba(0, 0, 0, 0.3));\n",
              "      fill: #FFFFFF;\n",
              "    }\n",
              "  </style>\n",
              "\n",
              "      <script>\n",
              "        const buttonEl =\n",
              "          document.querySelector('#df-184a8b41-989b-4ba4-8450-a2f46df9e16e button.colab-df-convert');\n",
              "        buttonEl.style.display =\n",
              "          google.colab.kernel.accessAllowed ? 'block' : 'none';\n",
              "\n",
              "        async function convertToInteractive(key) {\n",
              "          const element = document.querySelector('#df-184a8b41-989b-4ba4-8450-a2f46df9e16e');\n",
              "          const dataTable =\n",
              "            await google.colab.kernel.invokeFunction('convertToInteractive',\n",
              "                                                     [key], {});\n",
              "          if (!dataTable) return;\n",
              "\n",
              "          const docLinkHtml = 'Like what you see? Visit the ' +\n",
              "            '<a target=\"_blank\" href=https://colab.research.google.com/notebooks/data_table.ipynb>data table notebook</a>'\n",
              "            + ' to learn more about interactive tables.';\n",
              "          element.innerHTML = '';\n",
              "          dataTable['output_type'] = 'display_data';\n",
              "          await google.colab.output.renderOutput(dataTable, element);\n",
              "          const docLink = document.createElement('div');\n",
              "          docLink.innerHTML = docLinkHtml;\n",
              "          element.appendChild(docLink);\n",
              "        }\n",
              "      </script>\n",
              "    </div>\n",
              "  </div>\n",
              "  "
            ]
          },
          "metadata": {},
          "execution_count": 41
        }
      ],
      "source": [
        "amazon_dataframe.head(-1)"
      ]
    },
    {
      "cell_type": "markdown",
      "metadata": {
        "id": "KBeCqcif1nMi"
      },
      "source": [
        "<h2>About the Authors:</h2> \n",
        "\n",
        "<a href=\"https://www.linkedin.com/in/joseph-s-50398b136/?utm_medium=Exinfluencer&utm_source=Exinfluencer&utm_content=000026UJ&utm_term=10006555&utm_id=NA-SkillsNetwork-Channel-SkillsNetworkCoursesIBMDeveloperSkillsNetworkPY0220ENSkillsNetwork900-2022-01-01\">Joseph Santarcangelo</a> has a PhD in Electrical Engineering, his research focused on using machine learning, signal processing, and computer vision to determine how videos impact human cognition. Joseph has been working for IBM since he completed his PhD.\n",
        "\n",
        "Azim Hirjani\n"
      ]
    },
    {
      "cell_type": "markdown",
      "metadata": {
        "id": "g1GRg64q1nMi"
      },
      "source": [
        "## Change Log\n",
        "\n",
        "| Date (YYYY-MM-DD) | Version | Changed By    | Change Description        |\n",
        "| ----------------- | ------- | ------------- | ------------------------- |\n",
        "    | 2021-06-09       | 1.2     | Lakshmi Holla|Added URL in question 3 |\n",
        "| 2020-11-10        | 1.1     | Malika Singla | Deleted the Optional part |\n",
        "| 2020-08-27        | 1.0     | Malika Singla | Added lab to GitLab       |\n",
        "\n",
        "<hr>\n",
        "\n",
        "## <h3 align=\"center\"> © IBM Corporation 2020. All rights reserved. <h3/>\n",
        "\n",
        "<p>\n"
      ]
    }
  ],
  "metadata": {
    "kernelspec": {
      "display_name": "Python",
      "language": "python",
      "name": "conda-env-python-py"
    },
    "language_info": {
      "name": ""
    },
    "colab": {
      "provenance": [],
      "include_colab_link": true
    }
  },
  "nbformat": 4,
  "nbformat_minor": 0
}